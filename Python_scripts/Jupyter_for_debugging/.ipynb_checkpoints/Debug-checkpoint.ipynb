{
 "cells": [
  {
   "cell_type": "code",
   "execution_count": 3,
   "metadata": {},
   "outputs": [],
   "source": [
    "import numpy as np\n",
    "import pickle\n",
    "import os.path\n",
    "import tensorflow as tf"
   ]
  },
  {
   "cell_type": "markdown",
   "metadata": {},
   "source": [
    "# Read local data"
   ]
  },
  {
   "cell_type": "code",
   "execution_count": 4,
   "metadata": {},
   "outputs": [],
   "source": [
    "def read_local(file):\n",
    "    with open(file, 'rb') as file_bytes:\n",
    "        return pickle.load(file_bytes)"
   ]
  },
  {
   "cell_type": "markdown",
   "metadata": {},
   "source": [
    "# SVM Section"
   ]
  },
  {
   "cell_type": "code",
   "execution_count": 24,
   "metadata": {},
   "outputs": [
    {
     "ename": "ValueError",
     "evalue": "all the input array dimensions except for the concatenation axis must match exactly",
     "output_type": "error",
     "traceback": [
      "\u001b[0;31m---------------------------------------------------------------------------\u001b[0m",
      "\u001b[0;31mValueError\u001b[0m                                Traceback (most recent call last)",
      "\u001b[0;32m<ipython-input-24-8aa5fa256a0c>\u001b[0m in \u001b[0;36m<module>\u001b[0;34m()\u001b[0m\n\u001b[1;32m      2\u001b[0m \u001b[0mprobs\u001b[0m \u001b[0;34m=\u001b[0m \u001b[0mnp\u001b[0m\u001b[0;34m.\u001b[0m\u001b[0masarray\u001b[0m\u001b[0;34m(\u001b[0m\u001b[0mprobs\u001b[0m\u001b[0;34m)\u001b[0m\u001b[0;34m\u001b[0m\u001b[0m\n\u001b[1;32m      3\u001b[0m \u001b[0mz\u001b[0m \u001b[0;34m=\u001b[0m \u001b[0mnp\u001b[0m\u001b[0;34m.\u001b[0m\u001b[0mvstack\u001b[0m\u001b[0;34m(\u001b[0m\u001b[0mprobs\u001b[0m\u001b[0;34m)\u001b[0m\u001b[0;34m\u001b[0m\u001b[0m\n\u001b[0;32m----> 4\u001b[0;31m \u001b[0ml\u001b[0m \u001b[0;34m=\u001b[0m \u001b[0mnp\u001b[0m\u001b[0;34m.\u001b[0m\u001b[0mvstack\u001b[0m\u001b[0;34m(\u001b[0m\u001b[0mlabels\u001b[0m\u001b[0;34m)\u001b[0m\u001b[0;34m\u001b[0m\u001b[0m\n\u001b[0m\u001b[1;32m      5\u001b[0m \u001b[0mprint\u001b[0m\u001b[0;34m(\u001b[0m\u001b[0mz\u001b[0m\u001b[0;34m.\u001b[0m\u001b[0mshape\u001b[0m\u001b[0;34m)\u001b[0m\u001b[0;34m\u001b[0m\u001b[0m\n\u001b[1;32m      6\u001b[0m \u001b[0mprint\u001b[0m\u001b[0;34m(\u001b[0m\u001b[0ml\u001b[0m\u001b[0;34m.\u001b[0m\u001b[0mshape\u001b[0m\u001b[0;34m)\u001b[0m\u001b[0;34m\u001b[0m\u001b[0m\n",
      "\u001b[0;32m/Library/Frameworks/Python.framework/Versions/3.6/lib/python3.6/site-packages/numpy/core/shape_base.py\u001b[0m in \u001b[0;36mvstack\u001b[0;34m(tup)\u001b[0m\n\u001b[1;32m    235\u001b[0m \u001b[0;34m\u001b[0m\u001b[0m\n\u001b[1;32m    236\u001b[0m     \"\"\"\n\u001b[0;32m--> 237\u001b[0;31m     \u001b[0;32mreturn\u001b[0m \u001b[0m_nx\u001b[0m\u001b[0;34m.\u001b[0m\u001b[0mconcatenate\u001b[0m\u001b[0;34m(\u001b[0m\u001b[0;34m[\u001b[0m\u001b[0matleast_2d\u001b[0m\u001b[0;34m(\u001b[0m\u001b[0m_m\u001b[0m\u001b[0;34m)\u001b[0m \u001b[0;32mfor\u001b[0m \u001b[0m_m\u001b[0m \u001b[0;32min\u001b[0m \u001b[0mtup\u001b[0m\u001b[0;34m]\u001b[0m\u001b[0;34m,\u001b[0m \u001b[0;36m0\u001b[0m\u001b[0;34m)\u001b[0m\u001b[0;34m\u001b[0m\u001b[0m\n\u001b[0m\u001b[1;32m    238\u001b[0m \u001b[0;34m\u001b[0m\u001b[0m\n\u001b[1;32m    239\u001b[0m \u001b[0;32mdef\u001b[0m \u001b[0mhstack\u001b[0m\u001b[0;34m(\u001b[0m\u001b[0mtup\u001b[0m\u001b[0;34m)\u001b[0m\u001b[0;34m:\u001b[0m\u001b[0;34m\u001b[0m\u001b[0m\n",
      "\u001b[0;31mValueError\u001b[0m: all the input array dimensions except for the concatenation axis must match exactly"
     ]
    }
   ],
   "source": [
    "probs, indicies, labels = read_local('svm_probabilities.pickle'), read_local('svm_indicies.pickle'), read_local('svm_labels.pickle')\n",
    "probs, labels = np.asarray(probs), np.asarray(labels)\n",
    "z = np.vstack(probs)\n",
    "l = np.vstack(labels)\n",
    "print(z.shape)\n",
    "print(l.shape)"
   ]
  },
  {
   "cell_type": "markdown",
   "metadata": {},
   "source": [
    "# Deep learn section"
   ]
  },
  {
   "cell_type": "code",
   "execution_count": 4,
   "metadata": {},
   "outputs": [],
   "source": [
    "data = read_local('valid_predictions.pickle')\n",
    "labels = read_local('true_labels.pickle')\n",
    "session = tf.InteractiveSession()\n",
    "session.run(tf.global_variables_initializer())\n",
    "pred = tf.placeholder(tf.float32, name='pred')\n",
    "p_original = tf.argmax(pred)\n",
    "softmax = tf.nn.softmax(pred)\n",
    "p_softmax = tf.argmax(softmax)"
   ]
  },
  {
   "cell_type": "code",
   "execution_count": 17,
   "metadata": {},
   "outputs": [
    {
     "name": "stdout",
     "output_type": "stream",
     "text": [
      "|0.00123|0.00013|0.99864| -> 0.99864 -> 2.00000\n",
      "|0.00218|0.00001|0.99782| -> 0.99782 -> 2.00000\n",
      "|0.99995|0.00005|0.00000| -> 0.99995 -> 0.00000\n",
      "|0.99994|0.00006|0.00000| -> 0.99994 -> 0.00000\n",
      "|0.99837|0.00031|0.00133| -> 0.99837 -> 0.00000\n",
      "|0.97510|0.01152|0.01337| -> 0.97510 -> 0.00000\n",
      "|0.00103|0.97529|0.02367| -> 0.97529 -> 1.00000\n",
      "|0.00119|0.00000|0.99881| -> 0.99881 -> 2.00000\n",
      "|0.99683|0.00315|0.00002| -> 0.99683 -> 0.00000\n",
      "|0.92001|0.00868|0.07130| -> 0.92001 -> 0.00000\n",
      "|0.00000|0.00000|1.00000| -> 1.00000 -> 2.00000\n",
      "|0.99869|0.00120|0.00011| -> 0.99869 -> 0.00000\n",
      "|0.00000|0.00000|1.00000| -> 1.00000 -> 2.00000\n",
      "|1.00000|0.00000|0.00000| -> 1.00000 -> 0.00000\n",
      "|0.07844|0.00001|0.92156| -> 0.92156 -> 2.00000\n",
      "|0.17631|0.43401|0.38968| -> 0.43401 -> 1.00000\n",
      "|0.99938|0.00055|0.00007| -> 0.99938 -> 0.00000\n",
      "|0.99987|0.00013|0.00000| -> 0.99987 -> 0.00000\n",
      "|0.10756|0.37218|0.52026| -> 0.52026 -> 2.00000\n",
      "|1.00000|0.00000|0.00000| -> 1.00000 -> 0.00000\n",
      "|1.00000|0.00000|0.00000| -> 1.00000 -> 0.00000\n",
      "|0.97894|0.01730|0.00376| -> 0.97894 -> 0.00000\n",
      "|0.22550|0.69972|0.07477| -> 0.69972 -> 1.00000\n",
      "|0.97847|0.02153|0.00000| -> 0.97847 -> 0.00000\n",
      "|0.00000|0.00000|1.00000| -> 1.00000 -> 2.00000\n",
      "|0.99992|0.00008|0.00000| -> 0.99992 -> 0.00000\n",
      "|0.00162|0.00023|0.99815| -> 0.99815 -> 2.00000\n",
      "|0.05808|0.02569|0.91624| -> 0.91624 -> 2.00000\n",
      "|1.00000|0.00000|0.00000| -> 1.00000 -> 0.00000\n",
      "|0.00000|0.00000|1.00000| -> 1.00000 -> 2.00000\n",
      "|0.00072|0.99759|0.00169| -> 0.99759 -> 1.00000\n",
      "|0.99920|0.00007|0.00073| -> 0.99920 -> 0.00000\n",
      "|0.00012|0.00002|0.99986| -> 0.99986 -> 2.00000\n",
      "|0.99743|0.00067|0.00189| -> 0.99743 -> 0.00000\n",
      "|0.99999|0.00001|0.00000| -> 0.99999 -> 0.00000\n",
      "|0.00084|0.00002|0.99913| -> 0.99913 -> 2.00000\n",
      "|0.99970|0.00022|0.00008| -> 0.99970 -> 0.00000\n"
     ]
    }
   ],
   "source": [
    "softmax_probabilities = session.run(softmax, feed_dict={pred: data.T})\n",
    "max_prob = np.amax(softmax_probabilities,axis=1).reshape((-1,1))\n",
    "clean_class = session.run(p_original, feed_dict={pred: data}).reshape((-1,1))\n",
    "count = 0\n",
    "for row in softmax_probabilities:    \n",
    "    for col in row:\n",
    "        print('|{0:.5f}'.format(col), end='')    \n",
    "    print('| -> {0:.5f} -> {1:0.5f}'.format(max_prob[count][0], clean_class[count][0]))\n",
    "    count = count + 1"
   ]
  },
  {
   "cell_type": "code",
   "execution_count": 19,
   "metadata": {},
   "outputs": [],
   "source": [
    "from sklearn.preprocessing import label_binarize\n",
    "Y_hot = label_binarize(labels['validation'], classes= [0,1,2])"
   ]
  },
  {
   "cell_type": "markdown",
   "metadata": {},
   "source": [
    "# ROC and AUC for devset"
   ]
  },
  {
   "cell_type": "code",
   "execution_count": 20,
   "metadata": {},
   "outputs": [],
   "source": [
    "from sklearn.metrics import roc_curve, auc"
   ]
  },
  {
   "cell_type": "code",
   "execution_count": 21,
   "metadata": {},
   "outputs": [],
   "source": [
    "n_classes = Y_hot.shape[1]\n",
    "fpr, tpr, roc_auc = dict(), dict(), dict() \n",
    "for i in range(n_classes):\n",
    "    fpr[i], tpr[i], _ = roc_curve(Y_hot[:, i], softmax_probabilities[:,i])\n",
    "    roc_auc[i] = auc(fpr[i], tpr[i])"
   ]
  },
  {
   "cell_type": "code",
   "execution_count": 24,
   "metadata": {},
   "outputs": [
    {
     "data": {
      "image/png": "[encoded data removed]",
      "text/plain": [
       "<matplotlib.figure.Figure at 0x11d70d240>"
      ]
     },
     "metadata": {},
     "output_type": "display_data"
    }
   ],
   "source": [
    "# Aggrefate all false positives rates\n",
    "all_fpr = np.unique(np.concatenate([fpr[i] for i in range(n_classes)]))\n",
    "\n",
    "# Interpolate\n",
    "from scipy import interp\n",
    "mean_tpr = np.zeros_like(all_fpr)\n",
    "for i in range(n_classes):\n",
    "    mean_tpr += interp(all_fpr, fpr[i], tpr[i])\n",
    "\n",
    "# Average and AUC\n",
    "mean_tpr /= n_classes\n",
    "\n",
    "fpr[\"macro\"] = all_fpr\n",
    "tpr[\"macro\"] = mean_tpr\n",
    "roc_auc[\"macro\"] = auc(fpr[\"macro\"], tpr[\"macro\"])\n",
    "\n",
    "import matplotlib.pyplot as plt\n",
    "from itertools import cycle\n",
    "plt.figure()\n",
    "\n",
    "plt.plot(fpr[\"macro\"], tpr[\"macro\"],\n",
    "         label='macro-average ROC curve (area = {0:0.2f})'\n",
    "               ''.format(roc_auc[\"macro\"]),\n",
    "         color='navy', linestyle=':', linewidth=4)\n",
    "\n",
    "colors = cycle(['aqua', 'darkorange', 'cornflowerblue'])\n",
    "classes = ['Normal', 'MCI', 'AD']\n",
    "for i, color in zip(range(n_classes), colors):\n",
    "    plt.plot(fpr[i], tpr[i], color=color, lw=2,\n",
    "             label='ROC curve of class {0} (area = {1:0.2f})'\n",
    "             ''.format(classes[i], roc_auc[i]))\n",
    "\n",
    "plt.plot([0, 1], [0, 1], 'k--', lw=2)\n",
    "plt.xlim([0.0, 1.0])\n",
    "plt.ylim([0.0, 1.05])\n",
    "plt.xlabel('False Positive Rate')\n",
    "plt.ylabel('True Positive Rate')\n",
    "plt.title('Some extension of Receiver operating characteristic to multi-class')\n",
    "plt.legend(loc=\"lower right\")\n",
    "plt.show()"
   ]
  },
  {
   "cell_type": "code",
   "execution_count": null,
   "metadata": {},
   "outputs": [],
   "source": []
  },
  {
   "cell_type": "code",
   "execution_count": null,
   "metadata": {},
   "outputs": [],
   "source": []
  }
 ],
 "metadata": {
  "kernelspec": {
   "display_name": "Python 3",
   "language": "python",
   "name": "python3"
  },
  "language_info": {
   "codemirror_mode": {
    "name": "ipython",
    "version": 3
   },
   "file_extension": ".py",
   "mimetype": "text/x-python",
   "name": "python",
   "nbconvert_exporter": "python",
   "pygments_lexer": "ipython3",
   "version": "3.6.2"
  }
 },
 "nbformat": 4,
 "nbformat_minor": 2
}
