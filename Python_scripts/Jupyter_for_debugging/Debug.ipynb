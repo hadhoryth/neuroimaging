{
 "cells": [
  {
   "cell_type": "code",
   "execution_count": 1,
   "metadata": {},
   "outputs": [],
   "source": [
    "import numpy as np\n",
    "import pickle\n",
    "import os.path\n",
    "import tensorflow as tf\n",
    "from sklearn.preprocessing import label_binarize\n",
    "from sklearn.metrics import roc_curve, auc"
   ]
  },
  {
   "cell_type": "markdown",
   "metadata": {},
   "source": [
    "# Read local data"
   ]
  },
  {
   "cell_type": "code",
   "execution_count": 2,
   "metadata": {},
   "outputs": [],
   "source": [
    "def read_local(file):\n",
    "    with open(file, 'rb') as file_bytes:\n",
    "        return pickle.load(file_bytes)"
   ]
  },
  {
   "cell_type": "markdown",
   "metadata": {},
   "source": [
    "# SVM Section"
   ]
  },
  {
   "cell_type": "code",
   "execution_count": 32,
   "metadata": {},
   "outputs": [],
   "source": [
    "probs, indicies, labels = read_local('svm_probabilities.pickle'), read_local('svm_indicies.pickle'), read_local('svm_labels.pickle')\n",
    "probs, labels = np.asarray(probs), np.asarray(labels)\n",
    "z = np.vstack(probs)\n",
    "l = np.concatenate(labels).reshape((-1,1))\n",
    "Y = label_binarize(l, classes= [0,1,2])\n",
    "n_classes = Y.shape[1]\n",
    "fpr, tpr, roc_auc = dict(), dict(), dict() \n",
    "for i in range(n_classes):\n",
    "    fpr[i], tpr[i], _ = roc_curve(Y[:, i], z[:,i])\n",
    "    roc_auc[i] = auc(fpr[i], tpr[i])\n",
    "all_fpr = np.unique(np.concatenate([fpr[i] for i in range(n_classes)]))\n",
    "\n",
    "# Interpolate\n",
    "from scipy import interp\n",
    "mean_tpr = np.zeros_like(all_fpr)\n",
    "for i in range(n_classes):\n",
    "    mean_tpr += interp(all_fpr, fpr[i], tpr[i])\n",
    "\n",
    "# Average and AUC\n",
    "mean_tpr /= n_classes\n",
    "\n",
    "fpr[\"macro\"] = all_fpr\n",
    "tpr[\"macro\"] = mean_tpr\n",
    "roc_auc[\"macro\"] = auc(fpr[\"macro\"], tpr[\"macro\"])\n",
    "\n",
    "import matplotlib.pyplot as plt\n",
    "from itertools import cycle\n",
    "plt.figure()\n",
    "\n",
    "plt.plot(fpr[\"macro\"], tpr[\"macro\"],\n",
    "         label='macro-average ROC curve (area = {0:0.2f})'\n",
    "               ''.format(roc_auc[\"macro\"]),\n",
    "         color='navy', linestyle=':', linewidth=4)\n",
    "\n",
    "colors = cycle(['aqua', 'darkorange', 'cornflowerblue'])\n",
    "classes = ['Normal', 'MCI', 'AD']\n",
    "for i, color in zip(range(n_classes), colors):\n",
    "    plt.plot(fpr[i], tpr[i], color=color, lw=2,\n",
    "             label='ROC curve of class {0} (area = {1:0.2f})'\n",
    "             ''.format(classes[i], roc_auc[i]))\n",
    "\n",
    "plt.plot([0, 1], [0, 1], 'k--', lw=2)\n",
    "plt.xlim([0.0, 1.0])\n",
    "plt.ylim([0.0, 1.05])\n",
    "plt.xlabel('False Positive Rate')\n",
    "plt.ylabel('True Positive Rate')\n",
    "plt.title('Some extension of Receiver operating characteristic to multi-class')\n",
    "plt.legend(loc=\"lower right\")\n",
    "plt.savefig('SVM_Roc', dpi=300)"
   ]
  },
  {
   "cell_type": "markdown",
   "metadata": {},
   "source": [
    "# Deep learn section"
   ]
  },
  {
   "cell_type": "code",
   "execution_count": 9,
   "metadata": {},
   "outputs": [],
   "source": [
    "# data = read_local('valid_predictions.pickle')\n",
    "# labels = read_local('true_labels.pickle')\n",
    "data = read_local('dl_validation.pickle')\n",
    "labels = read_local('dl_validation_labels.pickle')\n",
    "session = tf.InteractiveSession()\n",
    "session.run(tf.global_variables_initializer())\n",
    "pred = tf.placeholder(tf.float32, name='pred')\n",
    "p_original = tf.argmax(pred)\n",
    "softmax = tf.nn.softmax(pred)\n",
    "p_softmax = tf.argmax(softmax)"
   ]
  },
  {
   "cell_type": "code",
   "execution_count": 10,
   "metadata": {},
   "outputs": [
    {
     "name": "stdout",
     "output_type": "stream",
     "text": [
      "|0.65476|0.00456|0.34068| -> 0.65476 -> 0.00000\n",
      "|1.00000|0.00000|0.00000| -> 1.00000 -> 0.00000\n",
      "|0.91528|0.07309|0.01163| -> 0.91528 -> 0.00000\n",
      "|0.99883|0.00114|0.00003| -> 0.99883 -> 0.00000\n",
      "|0.00038|0.00044|0.99918| -> 0.99918 -> 2.00000\n",
      "|0.87537|0.00893|0.11570| -> 0.87537 -> 0.00000\n",
      "|0.00138|0.00051|0.99811| -> 0.99811 -> 2.00000\n",
      "|0.99734|0.00046|0.00220| -> 0.99734 -> 0.00000\n",
      "|0.00001|0.00000|0.99999| -> 0.99999 -> 2.00000\n",
      "|1.00000|0.00000|0.00000| -> 1.00000 -> 0.00000\n",
      "|0.00000|0.00000|1.00000| -> 1.00000 -> 2.00000\n",
      "|0.00040|0.00187|0.99774| -> 0.99774 -> 2.00000\n",
      "|0.37832|0.62019|0.00149| -> 0.62019 -> 1.00000\n",
      "|0.27432|0.00118|0.72450| -> 0.72450 -> 2.00000\n",
      "|0.00002|0.00003|0.99996| -> 0.99996 -> 2.00000\n",
      "|0.99558|0.00090|0.00352| -> 0.99558 -> 0.00000\n",
      "|0.00002|0.00195|0.99803| -> 0.99803 -> 2.00000\n",
      "|0.99589|0.00358|0.00053| -> 0.99589 -> 0.00000\n",
      "|0.99970|0.00020|0.00010| -> 0.99970 -> 0.00000\n",
      "|0.99826|0.00041|0.00133| -> 0.99826 -> 0.00000\n",
      "|0.97831|0.00043|0.02126| -> 0.97831 -> 0.00000\n",
      "|0.00076|0.93230|0.06693| -> 0.93230 -> 1.00000\n",
      "|0.99883|0.00066|0.00052| -> 0.99883 -> 0.00000\n",
      "|0.99999|0.00000|0.00000| -> 0.99999 -> 0.00000\n",
      "|0.07250|0.00525|0.92225| -> 0.92225 -> 2.00000\n",
      "|1.00000|0.00000|0.00000| -> 1.00000 -> 0.00000\n",
      "|1.00000|0.00000|0.00000| -> 1.00000 -> 0.00000\n",
      "|0.98128|0.00256|0.01616| -> 0.98128 -> 0.00000\n",
      "|0.00000|0.00002|0.99998| -> 0.99998 -> 2.00000\n",
      "|0.99895|0.00021|0.00084| -> 0.99895 -> 0.00000\n",
      "|1.00000|0.00000|0.00000| -> 1.00000 -> 0.00000\n",
      "|0.99294|0.00045|0.00660| -> 0.99294 -> 0.00000\n",
      "|0.99861|0.00014|0.00125| -> 0.99861 -> 0.00000\n",
      "|0.99999|0.00001|0.00000| -> 0.99999 -> 0.00000\n",
      "|0.99973|0.00020|0.00008| -> 0.99973 -> 0.00000\n",
      "|0.00012|0.00010|0.99978| -> 0.99978 -> 2.00000\n",
      "|0.00161|0.00025|0.99814| -> 0.99814 -> 2.00000\n",
      "|1.00000|0.00000|0.00000| -> 1.00000 -> 0.00000\n",
      "|0.99809|0.00186|0.00006| -> 0.99809 -> 0.00000\n",
      "|0.01622|0.42415|0.55963| -> 0.55963 -> 2.00000\n",
      "|0.05712|0.94280|0.00008| -> 0.94280 -> 1.00000\n",
      "|0.00000|0.00000|1.00000| -> 1.00000 -> 2.00000\n",
      "|0.99972|0.00013|0.00016| -> 0.99972 -> 0.00000\n",
      "|0.01158|0.00019|0.98823| -> 0.98823 -> 2.00000\n",
      "|0.96599|0.02564|0.00837| -> 0.96599 -> 0.00000\n",
      "|0.98337|0.01592|0.00071| -> 0.98337 -> 0.00000\n",
      "|0.00000|0.00000|1.00000| -> 1.00000 -> 2.00000\n",
      "|0.00313|0.00378|0.99309| -> 0.99309 -> 2.00000\n",
      "|0.00052|0.00012|0.99935| -> 0.99935 -> 2.00000\n",
      "|0.99945|0.00047|0.00008| -> 0.99945 -> 0.00000\n",
      "|0.99990|0.00004|0.00006| -> 0.99990 -> 0.00000\n",
      "|0.99472|0.00520|0.00008| -> 0.99472 -> 0.00000\n",
      "|0.00019|0.00033|0.99948| -> 0.99948 -> 2.00000\n",
      "|0.01115|0.00132|0.98753| -> 0.98753 -> 2.00000\n",
      "|0.99890|0.00096|0.00013| -> 0.99890 -> 0.00000\n",
      "|0.03755|0.00134|0.96111| -> 0.96111 -> 2.00000\n",
      "|1.00000|0.00000|0.00000| -> 1.00000 -> 0.00000\n",
      "|0.99985|0.00009|0.00005| -> 0.99985 -> 0.00000\n",
      "|1.00000|0.00000|0.00000| -> 1.00000 -> 0.00000\n",
      "|0.01103|0.92955|0.05942| -> 0.92955 -> 1.00000\n",
      "|0.02913|0.40835|0.56252| -> 0.56252 -> 2.00000\n",
      "|0.99995|0.00004|0.00001| -> 0.99995 -> 0.00000\n",
      "|0.71539|0.27628|0.00833| -> 0.71539 -> 0.00000\n",
      "|0.00001|0.00003|0.99997| -> 0.99997 -> 2.00000\n",
      "|0.99746|0.00179|0.00074| -> 0.99746 -> 0.00000\n"
     ]
    }
   ],
   "source": [
    "softmax_probabilities = session.run(softmax, feed_dict={pred: data.T})\n",
    "max_prob = np.amax(softmax_probabilities,axis=1).reshape((-1,1))\n",
    "clean_class = session.run(p_original, feed_dict={pred: data}).reshape((-1,1))\n",
    "count = 0\n",
    "for row in softmax_probabilities:    \n",
    "    for col in row:\n",
    "        print('|{0:.5f}'.format(col), end='')    \n",
    "    print('| -> {0:.5f} -> {1:0.5f}'.format(max_prob[count][0], clean_class[count][0]))\n",
    "    count = count + 1"
   ]
  },
  {
   "cell_type": "code",
   "execution_count": 12,
   "metadata": {},
   "outputs": [],
   "source": [
    "Y_hot = label_binarize(labels, classes= [0,1,2])"
   ]
  },
  {
   "cell_type": "markdown",
   "metadata": {},
   "source": [
    "# ROC and AUC for devset"
   ]
  },
  {
   "cell_type": "code",
   "execution_count": 13,
   "metadata": {},
   "outputs": [],
   "source": [
    "n_classes = Y_hot.shape[1]\n",
    "fpr, tpr, roc_auc = dict(), dict(), dict() \n",
    "for i in range(n_classes):\n",
    "    fpr[i], tpr[i], _ = roc_curve(Y_hot[:, i], softmax_probabilities[:,i])\n",
    "    roc_auc[i] = auc(fpr[i], tpr[i])"
   ]
  },
  {
   "cell_type": "code",
   "execution_count": 17,
   "metadata": {},
   "outputs": [],
   "source": [
    "# Aggrefate all false positives rates\n",
    "all_fpr = np.unique(np.concatenate([fpr[i] for i in range(n_classes)]))\n",
    "\n",
    "# Interpolate\n",
    "from scipy import interp\n",
    "mean_tpr = np.zeros_like(all_fpr)\n",
    "for i in range(n_classes):\n",
    "    mean_tpr += interp(all_fpr, fpr[i], tpr[i])\n",
    "\n",
    "# Average and AUC\n",
    "mean_tpr /= n_classes\n",
    "\n",
    "fpr[\"macro\"] = all_fpr\n",
    "tpr[\"macro\"] = mean_tpr\n",
    "roc_auc[\"macro\"] = auc(fpr[\"macro\"], tpr[\"macro\"])\n",
    "\n",
    "import matplotlib.pyplot as plt\n",
    "from itertools import cycle\n",
    "plt.figure()\n",
    "\n",
    "plt.plot(fpr[\"macro\"], tpr[\"macro\"],\n",
    "         label='macro-average ROC curve (area = {0:0.2f})'\n",
    "               ''.format(roc_auc[\"macro\"]),\n",
    "         color='navy', linestyle=':', linewidth=4)\n",
    "\n",
    "colors = cycle(['aqua', 'darkorange', 'cornflowerblue'])\n",
    "classes = ['Normal', 'MCI', 'AD']\n",
    "for i, color in zip(range(n_classes), colors):\n",
    "    plt.plot(fpr[i], tpr[i], color=color, lw=2,\n",
    "             label='ROC curve of class {0} (area = {1:0.2f})'\n",
    "             ''.format(classes[i], roc_auc[i]))\n",
    "\n",
    "plt.plot([0, 1], [0, 1], 'k--', lw=2)\n",
    "plt.xlim([0.0, 1.0])\n",
    "plt.ylim([0.0, 1.05])\n",
    "plt.xlabel('False Positive Rate')\n",
    "plt.ylabel('True Positive Rate')\n",
    "plt.legend(loc=\"lower right\")\n",
    "plt.savefig('DL_ROC', dpi=300)"
   ]
  },
  {
   "cell_type": "code",
   "execution_count": null,
   "metadata": {},
   "outputs": [],
   "source": []
  },
  {
   "cell_type": "code",
   "execution_count": null,
   "metadata": {},
   "outputs": [],
   "source": []
  }
 ],
 "metadata": {
  "kernelspec": {
   "display_name": "Python 3",
   "language": "python",
   "name": "python3"
  },
  "language_info": {
   "codemirror_mode": {
    "name": "ipython",
    "version": 3
   },
   "file_extension": ".py",
   "mimetype": "text/x-python",
   "name": "python",
   "nbconvert_exporter": "python",
   "pygments_lexer": "ipython3",
   "version": "3.6.2"
  }
 },
 "nbformat": 4,
 "nbformat_minor": 2
}
